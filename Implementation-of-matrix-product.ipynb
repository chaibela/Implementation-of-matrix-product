{
 "cells": [
  {
   "cell_type": "code",
   "execution_count": 1,
   "id": "64e5a82e",
   "metadata": {},
   "outputs": [],
   "source": [
    "#Matrix product\n",
    "import numpy as np\n",
    "a_ndarray = np.array([[-1, 2, 3], [4, -5, 6], [7, 8, -9]])\n",
    "b_ndarray = np.array([[0, 2, 1], [0, 2, -8], [2, 9, -1]])"
   ]
  },
  {
   "cell_type": "code",
   "execution_count": null,
   "id": "d41743a1",
   "metadata": {},
   "outputs": [],
   "source": [
    "#[Problem 1] Matrix product is calculated manually\n",
    "The product of two matrices can be computed by multiplying elements of the fi rst row of the fi rst matrix with the fi rst column of thesecond matrix then, add all the product of elements. Continue this process until each row of the fi rst matrix is multiplied with eachcolumn of the second matrix."
   ]
  },
  {
   "cell_type": "code",
   "execution_count": 3,
   "id": "58afa898",
   "metadata": {},
   "outputs": [
    {
     "data": {
      "text/plain": [
       "array([[  6,  29, -20],\n",
       "       [ 12,  52,  38],\n",
       "       [-18, -51, -48]])"
      ]
     },
     "execution_count": 3,
     "metadata": {},
     "output_type": "execute_result"
    }
   ],
   "source": [
    "#[Problem 2] Calculation by NumPy function\n",
    "#using matmul()\n",
    "mat_product = np.matmul(a_ndarray, b_ndarray)\n",
    "mat_product"
   ]
  },
  {
   "cell_type": "code",
   "execution_count": 4,
   "id": "f367370e",
   "metadata": {},
   "outputs": [
    {
     "data": {
      "text/plain": [
       "array([[  6,  29, -20],\n",
       "       [ 12,  52,  38],\n",
       "       [-18, -51, -48]])"
      ]
     },
     "execution_count": 4,
     "metadata": {},
     "output_type": "execute_result"
    }
   ],
   "source": [
    "#using dot()\n",
    "mat_product1 = np.dot(a_ndarray, b_ndarray)\n",
    "mat_product1"
   ]
  },
  {
   "cell_type": "code",
   "execution_count": 5,
   "id": "9cdabf91",
   "metadata": {},
   "outputs": [
    {
     "data": {
      "text/plain": [
       "array([[  6,  29, -20],\n",
       "       [ 12,  52,  38],\n",
       "       [-18, -51, -48]])"
      ]
     },
     "execution_count": 5,
     "metadata": {},
     "output_type": "execute_result"
    }
   ],
   "source": [
    "# using @\n",
    "mat_product2 = a_ndarray @ b_ndarray\n",
    "mat_product2"
   ]
  },
  {
   "cell_type": "code",
   "execution_count": 12,
   "id": "0a4015c9",
   "metadata": {},
   "outputs": [
    {
     "name": "stdout",
     "output_type": "stream",
     "text": [
      "[114 160  60  27]\n",
      "[74 97 73 14]\n",
      "[119 157 112  23]\n"
     ]
    }
   ],
   "source": [
    "#[Problem 3] Implementation of calculation of a certain element & #[Problem 4] Creating a function that performs matrix multi\n",
    "# Program to multiply two matrices using nested loops\n",
    "# take a 3x3 matrix\n",
    "\n",
    "def multi_matrix(A,B):\n",
    "    result = np.array([[0, 0, 0, 0],[0, 0, 0, 0],[0, 0, 0, 0]])\n",
    "# iterating by row of A\n",
    "    for i in range(len(A)):\n",
    "        # iterating by coloum by B\n",
    "            for j in range(len(B[0])):\n",
    "               # iterating by rows of B\n",
    "                    for k in range(len(B)):\n",
    "                        result[i][j] += A[i][k] * B[k][j]\n",
    "    for r in result:\n",
    "        print (r)\n",
    "multi_matrix([[12,7,3],[4,5,6],[7,8,9]], [[5,8,1,2],[6,7,3,0],[4,5,9,1]])"
   ]
  },
  {
   "cell_type": "code",
   "execution_count": 30,
   "id": "1347e6c6",
   "metadata": {},
   "outputs": [
    {
     "ename": "IndentationError",
     "evalue": "unindent does not match any outer indentation level (<tokenize>, line 18)",
     "output_type": "error",
     "traceback": [
      "\u001b[1;36m  File \u001b[1;32m\"<tokenize>\"\u001b[1;36m, line \u001b[1;32m18\u001b[0m\n\u001b[1;33m    d_ndarray = np.array([[-1, 2, 3], [4, -5, 6]])\u001b[0m\n\u001b[1;37m    ^\u001b[0m\n\u001b[1;31mIndentationError\u001b[0m\u001b[1;31m:\u001b[0m unindent does not match any outer indentation level\n"
     ]
    }
   ],
   "source": [
    "#[Problem 5] Judge the input whose calculation is not defined\n",
    "\n",
    "def multi_matrix1(A,B):\n",
    "    if len(A) == len(B[0]):\n",
    "        result = np.array([[0, 0, 0, 0],[0, 0, 0, 0],[0, 0, 0, 0]])\n",
    "# iterating by row of A\n",
    "    for i in range(len(A)):\n",
    "        # iterating by coloum by B\n",
    "            for j in range(len(B[0])):\n",
    "            # iterating by rows of B\n",
    "                for k in range(len(B)):\n",
    "                    result[i][j] += A[i][k] * B[k][j]\n",
    "            for r in result:\n",
    "                print (r)\n",
    "            else:\n",
    "                print(\"Not defined\")\n",
    "                \n",
    "        d_ndarray = np.array([[-1, 2, 3], [4, -5, 6]])\n",
    "        e_ndarray = np.array([[-9, 8, 7], [6, -5, 4]])\n",
    "        multi_matrix1(d_ndarray, e_ndarray)"
   ]
  },
  {
   "cell_type": "code",
   "execution_count": 32,
   "id": "10356eb4",
   "metadata": {},
   "outputs": [
    {
     "name": "stdout",
     "output_type": "stream",
     "text": [
      "[[-9  6]\n",
      " [ 8 -5]\n",
      " [ 7  4]]\n",
      "[46 -4  0  0]\n",
      "[0 0 0 0]\n",
      "[0 0 0 0]\n",
      "Not defined\n",
      "[46 -4  0  0]\n",
      "[-34  73   0   0]\n",
      "[0 0 0 0]\n",
      "Not defined\n"
     ]
    },
    {
     "ename": "UnboundLocalError",
     "evalue": "local variable 'result' referenced before assignment",
     "output_type": "error",
     "traceback": [
      "\u001b[1;31m---------------------------------------------------------------------------\u001b[0m",
      "\u001b[1;31mUnboundLocalError\u001b[0m                         Traceback (most recent call last)",
      "\u001b[1;32m<ipython-input-32-c30e82bdfd9f>\u001b[0m in \u001b[0;36m<module>\u001b[1;34m\u001b[0m\n\u001b[0;32m      2\u001b[0m \u001b[0me_ndarrayT\u001b[0m \u001b[1;33m=\u001b[0m \u001b[0mnp\u001b[0m\u001b[1;33m.\u001b[0m\u001b[0mtranspose\u001b[0m\u001b[1;33m(\u001b[0m\u001b[0me_ndarray\u001b[0m\u001b[1;33m)\u001b[0m\u001b[1;33m\u001b[0m\u001b[1;33m\u001b[0m\u001b[0m\n\u001b[0;32m      3\u001b[0m \u001b[0mprint\u001b[0m\u001b[1;33m(\u001b[0m\u001b[0me_ndarrayT\u001b[0m\u001b[1;33m)\u001b[0m\u001b[1;33m\u001b[0m\u001b[1;33m\u001b[0m\u001b[0m\n\u001b[1;32m----> 4\u001b[1;33m \u001b[0mmulti_matrix1\u001b[0m\u001b[1;33m(\u001b[0m\u001b[0md_ndarray\u001b[0m\u001b[1;33m,\u001b[0m \u001b[0me_ndarrayT\u001b[0m\u001b[1;33m)\u001b[0m\u001b[1;33m\u001b[0m\u001b[1;33m\u001b[0m\u001b[0m\n\u001b[0m",
      "\u001b[1;32m<ipython-input-28-dd4ad8ab6707>\u001b[0m in \u001b[0;36mmulti_matrix1\u001b[1;34m(A, B)\u001b[0m\n\u001b[0;32m     18\u001b[0m     \u001b[0md_ndarray\u001b[0m \u001b[1;33m=\u001b[0m \u001b[0mnp\u001b[0m\u001b[1;33m.\u001b[0m\u001b[0marray\u001b[0m\u001b[1;33m(\u001b[0m\u001b[1;33m[\u001b[0m\u001b[1;33m[\u001b[0m\u001b[1;33m-\u001b[0m\u001b[1;36m1\u001b[0m\u001b[1;33m,\u001b[0m \u001b[1;36m2\u001b[0m\u001b[1;33m,\u001b[0m \u001b[1;36m3\u001b[0m\u001b[1;33m]\u001b[0m\u001b[1;33m,\u001b[0m \u001b[1;33m[\u001b[0m\u001b[1;36m4\u001b[0m\u001b[1;33m,\u001b[0m \u001b[1;33m-\u001b[0m\u001b[1;36m5\u001b[0m\u001b[1;33m,\u001b[0m \u001b[1;36m6\u001b[0m\u001b[1;33m]\u001b[0m\u001b[1;33m]\u001b[0m\u001b[1;33m)\u001b[0m\u001b[1;33m\u001b[0m\u001b[1;33m\u001b[0m\u001b[0m\n\u001b[0;32m     19\u001b[0m     \u001b[0me_ndarray\u001b[0m \u001b[1;33m=\u001b[0m \u001b[0mnp\u001b[0m\u001b[1;33m.\u001b[0m\u001b[0marray\u001b[0m\u001b[1;33m(\u001b[0m\u001b[1;33m[\u001b[0m\u001b[1;33m[\u001b[0m\u001b[1;33m-\u001b[0m\u001b[1;36m9\u001b[0m\u001b[1;33m,\u001b[0m \u001b[1;36m8\u001b[0m\u001b[1;33m,\u001b[0m \u001b[1;36m7\u001b[0m\u001b[1;33m]\u001b[0m\u001b[1;33m,\u001b[0m \u001b[1;33m[\u001b[0m\u001b[1;36m6\u001b[0m\u001b[1;33m,\u001b[0m \u001b[1;33m-\u001b[0m\u001b[1;36m5\u001b[0m\u001b[1;33m,\u001b[0m \u001b[1;36m4\u001b[0m\u001b[1;33m]\u001b[0m\u001b[1;33m]\u001b[0m\u001b[1;33m)\u001b[0m\u001b[1;33m\u001b[0m\u001b[1;33m\u001b[0m\u001b[0m\n\u001b[1;32m---> 20\u001b[1;33m     \u001b[0mmulti_matrix1\u001b[0m\u001b[1;33m(\u001b[0m\u001b[0md_ndarray\u001b[0m\u001b[1;33m,\u001b[0m \u001b[0me_ndarray\u001b[0m\u001b[1;33m)\u001b[0m\u001b[1;33m\u001b[0m\u001b[1;33m\u001b[0m\u001b[0m\n\u001b[0m",
      "\u001b[1;32m<ipython-input-28-dd4ad8ab6707>\u001b[0m in \u001b[0;36mmulti_matrix1\u001b[1;34m(A, B)\u001b[0m\n\u001b[0;32m     10\u001b[0m             \u001b[1;31m# iterating by rows of B\u001b[0m\u001b[1;33m\u001b[0m\u001b[1;33m\u001b[0m\u001b[1;33m\u001b[0m\u001b[0m\n\u001b[0;32m     11\u001b[0m                 \u001b[1;32mfor\u001b[0m \u001b[0mk\u001b[0m \u001b[1;32min\u001b[0m \u001b[0mrange\u001b[0m\u001b[1;33m(\u001b[0m\u001b[0mlen\u001b[0m\u001b[1;33m(\u001b[0m\u001b[0mB\u001b[0m\u001b[1;33m)\u001b[0m\u001b[1;33m)\u001b[0m\u001b[1;33m:\u001b[0m\u001b[1;33m\u001b[0m\u001b[1;33m\u001b[0m\u001b[0m\n\u001b[1;32m---> 12\u001b[1;33m                     \u001b[0mresult\u001b[0m\u001b[1;33m[\u001b[0m\u001b[0mi\u001b[0m\u001b[1;33m]\u001b[0m\u001b[1;33m[\u001b[0m\u001b[0mj\u001b[0m\u001b[1;33m]\u001b[0m \u001b[1;33m+=\u001b[0m \u001b[0mA\u001b[0m\u001b[1;33m[\u001b[0m\u001b[0mi\u001b[0m\u001b[1;33m]\u001b[0m\u001b[1;33m[\u001b[0m\u001b[0mk\u001b[0m\u001b[1;33m]\u001b[0m \u001b[1;33m*\u001b[0m \u001b[0mB\u001b[0m\u001b[1;33m[\u001b[0m\u001b[0mk\u001b[0m\u001b[1;33m]\u001b[0m\u001b[1;33m[\u001b[0m\u001b[0mj\u001b[0m\u001b[1;33m]\u001b[0m\u001b[1;33m\u001b[0m\u001b[1;33m\u001b[0m\u001b[0m\n\u001b[0m\u001b[0;32m     13\u001b[0m             \u001b[1;32mfor\u001b[0m \u001b[0mr\u001b[0m \u001b[1;32min\u001b[0m \u001b[0mresult\u001b[0m\u001b[1;33m:\u001b[0m\u001b[1;33m\u001b[0m\u001b[1;33m\u001b[0m\u001b[0m\n\u001b[0;32m     14\u001b[0m                 \u001b[0mprint\u001b[0m \u001b[1;33m(\u001b[0m\u001b[0mr\u001b[0m\u001b[1;33m)\u001b[0m\u001b[1;33m\u001b[0m\u001b[1;33m\u001b[0m\u001b[0m\n",
      "\u001b[1;31mUnboundLocalError\u001b[0m: local variable 'result' referenced before assignment"
     ]
    }
   ],
   "source": [
    "    #[Problem 6] Transposition\n",
    "    e_ndarrayT = np.transpose(e_ndarray)\n",
    "    print(e_ndarrayT)\n",
    "    multi_matrix1(d_ndarray, e_ndarrayT)"
   ]
  },
  {
   "cell_type": "code",
   "execution_count": null,
   "id": "6220c3e3",
   "metadata": {},
   "outputs": [],
   "source": []
  }
 ],
 "metadata": {
  "kernelspec": {
   "display_name": "Python 3",
   "language": "python",
   "name": "python3"
  },
  "language_info": {
   "codemirror_mode": {
    "name": "ipython",
    "version": 3
   },
   "file_extension": ".py",
   "mimetype": "text/x-python",
   "name": "python",
   "nbconvert_exporter": "python",
   "pygments_lexer": "ipython3",
   "version": "3.8.8"
  }
 },
 "nbformat": 4,
 "nbformat_minor": 5
}
